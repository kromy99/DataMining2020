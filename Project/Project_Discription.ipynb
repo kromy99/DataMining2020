{
 "cells": [
  {
   "cell_type": "markdown",
   "metadata": {},
   "source": [
    "# Data Mining for Security Applications: final project\n",
    "\n",
    "This final hands on project will count for 50% of your final grade (exam is the other 50%)"
   ]
  },
  {
   "cell_type": "markdown",
   "metadata": {},
   "source": [
    "## Organization\n",
    "* you can start the project as of now\n",
    "* the project has to be handed in no later than March 1st - NO EXTENSIONS!\n",
    "\n",
    "### Project Submission \n",
    "* hand in a single jupyter notebook for your project (via moodle)\n",
    "* set all paths as relative paths such that the data is in the same folder as the notebook\n",
    "* your notebook should run without errors (uncomment parts that do not work)\n",
    "* Use markdown cells and comments in the code to document and motivate you solution\n",
    "* show and analyze intermediate results\n",
    "* evaluate and discuss your solution\n",
    "\n",
    "### Grading Criteria\n",
    "* 4.0 : notebook that works and gives some solution to the problem\n",
    "* 3.0 : + good documentation, evaluation and discussion\n",
    "* 2.0 : + complete processing pipeline, good results\n",
    "* 1.0 : + very detailed documentation and analysis, hyper-parameter optimization, tried and compared more than one method \n",
    "\n"
   ]
  },
  {
   "cell_type": "markdown",
   "metadata": {},
   "source": [
    "# Task: Breaking image captchas  \n",
    "\n",
    "We are working on this Kaggle Challenge: https://www.kaggle.com/fournierp/captcha-version-2-images  \n",
    "\n",
    "HINT: have a good look at the problem description and the notebooks of other users to get started \n",
    "\n",
    "* Train and test images are in the according folders\n",
    "* The true labels are encoded in the file names "
   ]
  },
  {
   "cell_type": "markdown",
   "metadata": {},
   "source": [
    "## Tasks to follow:\n",
    "* write code to read the images [use the imageio lib](https://imageio.readthedocs.io/en/stable/userapi.html) and convert then into NUMPY feature vectors\n",
    "and labels\n",
    "    * HINT: use [the os lib](https://docs.python.org/2/library/os.html#os.listdir) to get files in a directory\n",
    "* the hardest part is to solve the segmentation problem: splitting the image into single characters\n",
    "    * try Clustering over pixel positions\n",
    "    * or a density projection along the y-axis\n",
    "* crate a training data set of labeled character segments\n",
    "    * evaluate this step\n",
    "* train a CNN or MLP network to classify character segments\n",
    "    * evaluate this step\n",
    "* build a full pipeline to transform capcha image inputs into strings\n",
    "* Evaluate and discuss your results"
   ]
  },
  {
   "cell_type": "markdown",
   "metadata": {},
   "source": [
    "# Importing Libs\n"
   ]
  },
  {
   "cell_type": "code",
   "execution_count": 1,
   "metadata": {},
   "outputs": [],
   "source": [
    "import os\n",
    "import cv2\n",
    "import matplotlib.pyplot as plt\n",
    "\n",
    "from pathlib import Path\n",
    "import numpy as np \n",
    "import pandas as pd"
   ]
  },
  {
   "cell_type": "markdown",
   "metadata": {},
   "source": [
    "# Loading Images"
   ]
  },
  {
   "cell_type": "code",
   "execution_count": 2,
   "metadata": {},
   "outputs": [
    {
     "name": "stdout",
     "output_type": "stream",
     "text": [
      "Number of images found: 942\n",
      "Number of labels found: 942\n",
      "Number of unique characters: 19\n",
      "Characters present: {'n', '7', '6', 'e', 'y', 'd', '4', '3', '5', 'm', 'w', 'x', '2', 'g', 'f', 'p', 'b', 'c', '8'}\n"
     ]
    }
   ],
   "source": [
    "train_dir = Path(\"./train/\")\n",
    "\n",
    "images = sorted(list(map(str, list(train_dir.glob(\"*.png\")))))\n",
    "labels = [img.split(os.path.sep)[-1].split(\".png\")[0] for img in images]\n",
    "characters = set(char for label in labels for char in label)\n",
    "\n",
    "print(f\"Number of images found: {len(images)}\")\n",
    "print(f\"Number of labels found: {len(labels)}\")\n",
    "print(f\"Number of unique characters: {len(characters)}\")\n",
    "print(f\"Characters present: {characters}\")"
   ]
  },
  {
   "cell_type": "code",
   "execution_count": 3,
   "metadata": {},
   "outputs": [
    {
     "name": "stdout",
     "output_type": "stream",
     "text": [
      "Number of images found: 98\n",
      "Number of labels found: 98\n",
      "Number of unique characters: 19\n",
      "Characters present: {'n', '7', '6', 'e', 'y', 'd', '4', '3', '5', 'm', 'w', 'x', '2', 'g', 'f', 'p', 'b', 'c', '8'}\n"
     ]
    }
   ],
   "source": [
    "test_dir = Path(\"./test/\")\n",
    "\n",
    "test_images = sorted(list(map(str, list(test_dir.glob(\"*.png\")))))\n",
    "test_labels = [img.split(os.path.sep)[-1].split(\".png\")[0] for img in test_images]\n",
    "test_characters = set(char for label in labels for char in label)\n",
    "\n",
    "print(f\"Number of images found: {len(test_images)}\")\n",
    "print(f\"Number of labels found: {len(test_labels)}\")\n",
    "print(f\"Number of unique characters: {len(test_characters)}\")\n",
    "print(f\"Characters present: {test_characters}\")"
   ]
  },
  {
   "cell_type": "markdown",
   "metadata": {},
   "source": [
    "Both, the Training and the Test data only contain a total of 19 different characters, therefore I will check if those are identical:"
   ]
  },
  {
   "cell_type": "code",
   "execution_count": 4,
   "metadata": {},
   "outputs": [
    {
     "name": "stdout",
     "output_type": "stream",
     "text": [
      "Number of unique characters: 19\n",
      "Characters present: {'n', '7', '6', 'e', 'y', 'd', '4', '3', '5', 'm', 'w', 'x', '2', 'g', 'f', 'p', 'b', 'c', '8'}\n"
     ]
    }
   ],
   "source": [
    "total_characters = test_characters.union(characters)\n",
    "print(f\"Number of unique characters: {len(total_characters)}\")\n",
    "print(f\"Characters present: {total_characters}\")"
   ]
  },
  {
   "cell_type": "markdown",
   "metadata": {},
   "source": [
    "# Initial Look at the Captchas"
   ]
  },
  {
   "cell_type": "code",
   "execution_count": 5,
   "metadata": {},
   "outputs": [
    {
     "name": "stdout",
     "output_type": "stream",
     "text": [
      "Shape of image:  (50, 200, 3)\n",
      "Shape of image:  (50, 200, 3)\n",
      "Shape of image:  (50, 200, 3)\n",
      "Shape of image:  (50, 200, 3)\n",
      "Shape of image:  (50, 200, 3)\n",
      "Shape of image:  (50, 200, 3)\n",
      "Shape of image:  (50, 200, 3)\n",
      "Shape of image:  (50, 200, 3)\n"
     ]
    },
    {
     "data": {
      "image/png": "[encoded data removed]",
      "text/plain": [
       "<Figure size 360x216 with 8 Axes>"
      ]
     },
     "metadata": {
      "needs_background": "light"
     },
     "output_type": "display_data"
    }
   ],
   "source": [
    "_,ax = plt.subplots(4,2, figsize=(5,3))\n",
    "\n",
    "for i in range(8):\n",
    "    img = cv2.imread(str(images[i]))\n",
    "    print(\"Shape of image: \", img.shape)\n",
    "    ax[i//2, i%2].imshow(img)\n",
    "    ax[i//2, i%2].axis('off')\n",
    "plt.show()"
   ]
  },
  {
   "cell_type": "code",
   "execution_count": 6,
   "metadata": {},
   "outputs": [
    {
     "name": "stdout",
     "output_type": "stream",
     "text": [
      "Maximum Length:  5\n",
      "Maximum Length:  5\n"
     ]
    }
   ],
   "source": [
    "test_labels\n",
    "max_len = max([len(i) for i in test_labels])\n",
    "min_len = min([len(i) for i in test_labels])\n",
    "print(\"Maximum Length: \", max_len)\n",
    "print(\"Maximum Length: \", min_len)"
   ]
  },
  {
   "cell_type": "markdown",
   "metadata": {},
   "source": [
    "All Images seem to have the sampe shape and contain 5 letter Chaptchas that are crossed trough by a horizontal line.\n",
    "\n",
    "Also there seems to be a small distracting line close to the first character of the captcha"
   ]
  },
  {
   "cell_type": "markdown",
   "metadata": {},
   "source": [
    "# Extracting labelled characters\n",
    "\n",
    "As we know that each of our image contains a line , basically a thin line which cuts several characters. So we are going to remove that line by morphological operations on our image(Erosion and dilation). First we wil threshold our image , we are gonna use Adaptive thresolding , then we will dilate to remove that line. Its also clearly visible that each image contains 5 characters and the positions of all 5 characters are always same. So we wil hardcode character's position and from each image we will extract five characters with their corresponding label , and hence will get a labelled data. We wil pad each character image to change it in required dimension.\n",
    "\n",
    "Idea from \n",
    "https://www.kaggle.com/bharatbansal/ocr-with-opencv-92-9-accuracy-on-captcha-codes#Loading-images"
   ]
  },
  {
   "cell_type": "code",
   "execution_count": 7,
   "metadata": {},
   "outputs": [],
   "source": [
    "kernel =np.ones((3,1),np.uint8)\n",
    "borderType = cv2.BORDER_CONSTANT\n",
    "def pad(src): \n",
    "    top = int(0.05 * src.shape[0])  # shape[0] = rows\n",
    "    bottom = top\n",
    "    left = int(0.15 * src.shape[1])  # shape[1] = cols\n",
    "    right = left\n",
    "    des=cv2.copyMakeBorder(src, top, bottom, left+1, right, borderType, None,255)\n",
    "    return cv2.bitwise_not(des)"
   ]
  },
  {
   "cell_type": "code",
   "execution_count": 8,
   "metadata": {},
   "outputs": [],
   "source": [
    "x_train=[]\n",
    "y_train=[]\n",
    "for image in images:\n",
    "    im=cv2.imread(str(image),0)\n",
    "    threshold=cv2.adaptiveThreshold(im, 255, cv2.ADAPTIVE_THRESH_GAUSSIAN_C,cv2.THRESH_BINARY, 199, 5)\n",
    "    erosion =cv2.dilate(threshold,kernel,iterations=2)\n",
    "    s=str(image)\n",
    "    for i in range(5):\n",
    "        x_train.append(pad(erosion[:,(30+23*i):(30+23*(i+1))]))\n",
    "        y_train.append(s[-9+i])"
   ]
  },
  {
   "cell_type": "code",
   "execution_count": 9,
   "metadata": {},
   "outputs": [
    {
     "data": {
      "text/plain": [
       "<matplotlib.image.AxesImage at 0x7f138e00a550>"
      ]
     },
     "execution_count": 9,
     "metadata": {},
     "output_type": "execute_result"
    },
    {
     "data": {
      "image/png": "[encoded data removed]",
      "text/plain": [
       "<Figure size 432x288 with 1 Axes>"
      ]
     },
     "metadata": {
      "needs_background": "light"
     },
     "output_type": "display_data"
    }
   ],
   "source": [
    "plt.imshow(x_train[102])"
   ]
  },
  {
   "cell_type": "code",
   "execution_count": 10,
   "metadata": {},
   "outputs": [
    {
     "data": {
      "text/plain": [
       "'8'"
      ]
     },
     "execution_count": 10,
     "metadata": {},
     "output_type": "execute_result"
    }
   ],
   "source": [
    "y_train[102]"
   ]
  },
  {
   "cell_type": "code",
   "execution_count": 11,
   "metadata": {},
   "outputs": [
    {
     "data": {
      "text/plain": [
       "numpy.ndarray"
      ]
     },
     "execution_count": 11,
     "metadata": {},
     "output_type": "execute_result"
    }
   ],
   "source": [
    "type(x_train[45])"
   ]
  },
  {
   "cell_type": "code",
   "execution_count": 12,
   "metadata": {},
   "outputs": [
    {
     "data": {
      "text/plain": [
       "4710"
      ]
     },
     "execution_count": 12,
     "metadata": {},
     "output_type": "execute_result"
    }
   ],
   "source": [
    "len(x_train)"
   ]
  },
  {
   "cell_type": "code",
   "execution_count": 13,
   "metadata": {},
   "outputs": [],
   "source": [
    "x_train=np.array(x_train)\n",
    "y_train=np.array(y_train)"
   ]
  },
  {
   "cell_type": "markdown",
   "metadata": {},
   "source": []
  },
  {
   "cell_type": "markdown",
   "metadata": {},
   "source": [
    "We were working with a total of 942 images, that contained 5 letters each, therefore the total number of characters should be 4710, as seen above"
   ]
  },
  {
   "cell_type": "code",
   "execution_count": 14,
   "metadata": {},
   "outputs": [
    {
     "name": "stdout",
     "output_type": "stream",
     "text": [
      "[['2' '241']\n",
      " ['3' '237']\n",
      " ['4' '259']\n",
      " ['5' '263']\n",
      " ['6' '241']\n",
      " ['7' '232']\n",
      " ['8' '246']\n",
      " ['b' '212']\n",
      " ['c' '238']\n",
      " ['d' '234']\n",
      " ['e' '209']\n",
      " ['f' '242']\n",
      " ['g' '236']\n",
      " ['m' '240']\n",
      " ['n' '482']\n",
      " ['p' '229']\n",
      " ['w' '211']\n",
      " ['x' '246']\n",
      " ['y' '212']]\n"
     ]
    }
   ],
   "source": [
    "(unique, counts) = np.unique(y_train, return_counts=True)\n",
    "frequencies = np.asarray((unique, counts)).T\n",
    "\n",
    "print(frequencies)\n"
   ]
  },
  {
   "cell_type": "markdown",
   "metadata": {},
   "source": [
    "The only big outlier seems to be the character \"n\" appearing 482 times"
   ]
  },
  {
   "cell_type": "code",
   "execution_count": 15,
   "metadata": {},
   "outputs": [],
   "source": [
    "\n",
    "\n",
    "x_train=np.reshape(x_train,(-1,54,30,1))\n",
    "\n"
   ]
  },
  {
   "cell_type": "code",
   "execution_count": 16,
   "metadata": {},
   "outputs": [],
   "source": [
    "y2_train = []\n",
    "l=['2','3','4','5','6','7','8','b','c','d','e','f','g','m','n','p','w','x','y']\n",
    "for j in y_train:\n",
    "    i=l.index(j)\n",
    "    a=[]\n",
    "    for r in range(19):\n",
    "        if(r==i):\n",
    "            a.append(1)\n",
    "        else:\n",
    "            a.append(0)\n",
    "    a=np.array(a)\n",
    "    y2_train.append(a)\n",
    "y2_train=np.array(y2_train)   "
   ]
  },
  {
   "cell_type": "code",
   "execution_count": null,
   "metadata": {},
   "outputs": [],
   "source": []
  },
  {
   "cell_type": "markdown",
   "metadata": {},
   "source": [
    "# Preparing Test Data"
   ]
  },
  {
   "cell_type": "code",
   "execution_count": 17,
   "metadata": {},
   "outputs": [],
   "source": [
    "x_test=[]\n",
    "y_test=[]\n",
    "for image in test_images:\n",
    "    im=cv2.imread(str(image),0)\n",
    "    threshold=cv2.adaptiveThreshold(im, 255, cv2.ADAPTIVE_THRESH_GAUSSIAN_C,cv2.THRESH_BINARY, 199, 5)\n",
    "    erosion =cv2.dilate(threshold,kernel,iterations=2)\n",
    "    s=str(image)\n",
    "    for i in range(5):\n",
    "        x_test.append(pad(erosion[:,(30+23*i):(30+23*(i+1))]))\n",
    "        y_test.append(s[-9+i])"
   ]
  },
  {
   "cell_type": "code",
   "execution_count": 18,
   "metadata": {},
   "outputs": [],
   "source": [
    "x_test=np.array(x_test)\n",
    "y_test=np.array(y_test)"
   ]
  },
  {
   "cell_type": "code",
   "execution_count": 19,
   "metadata": {},
   "outputs": [
    {
     "data": {
      "text/plain": [
       "<matplotlib.image.AxesImage at 0x7f138d817a90>"
      ]
     },
     "execution_count": 19,
     "metadata": {},
     "output_type": "execute_result"
    },
    {
     "data": {
      "image/png": "[encoded data removed]",
      "text/plain": [
       "<Figure size 432x288 with 1 Axes>"
      ]
     },
     "metadata": {
      "needs_background": "light"
     },
     "output_type": "display_data"
    }
   ],
   "source": [
    "plt.imshow(x_test[21])"
   ]
  },
  {
   "cell_type": "code",
   "execution_count": 20,
   "metadata": {},
   "outputs": [
    {
     "data": {
      "text/plain": [
       "'x'"
      ]
     },
     "execution_count": 20,
     "metadata": {},
     "output_type": "execute_result"
    }
   ],
   "source": [
    "y_test[21]"
   ]
  },
  {
   "cell_type": "code",
   "execution_count": 21,
   "metadata": {},
   "outputs": [],
   "source": [
    "x_test=np.reshape(x_test,(-1,54,30,1))"
   ]
  },
  {
   "cell_type": "markdown",
   "metadata": {},
   "source": [
    "All of the possible characters will be transformed with an encoding from 0 to 18"
   ]
  },
  {
   "cell_type": "code",
   "execution_count": 22,
   "metadata": {},
   "outputs": [],
   "source": [
    "y2_test = []\n",
    "l=['2','3','4','5','6','7','8','b','c','d','e','f','g','m','n','p','w','x','y']\n",
    "for j in y_test:\n",
    "    i=l.index(j)\n",
    "    a=[]\n",
    "    for r in range(19):\n",
    "        if(r==i):\n",
    "            a.append(1)\n",
    "        else:\n",
    "            a.append(0)\n",
    "    a=np.array(a)\n",
    "    y2_test.append(a)\n",
    "y2_test=np.array(y2_test)  "
   ]
  },
  {
   "cell_type": "code",
   "execution_count": null,
   "metadata": {},
   "outputs": [],
   "source": []
  },
  {
   "cell_type": "code",
   "execution_count": null,
   "metadata": {},
   "outputs": [],
   "source": []
  },
  {
   "cell_type": "markdown",
   "metadata": {},
   "source": [
    "# Inital Ideas\n",
    "The dimension of the arrays in the current form is 4.\n",
    "Therefore 2 different solutions to this problem can be applied:\n",
    "1. Reduce the dimension to 2\n",
    "2. Use CNNs"
   ]
  },
  {
   "cell_type": "markdown",
   "metadata": {},
   "source": [
    "# Version 1: Reshape to 2D arrays\n"
   ]
  },
  {
   "cell_type": "code",
   "execution_count": 23,
   "metadata": {},
   "outputs": [
    {
     "data": {
      "text/plain": [
       "(4710, 54, 30, 1)"
      ]
     },
     "execution_count": 23,
     "metadata": {},
     "output_type": "execute_result"
    }
   ],
   "source": [
    "x_train.shape"
   ]
  },
  {
   "cell_type": "code",
   "execution_count": 24,
   "metadata": {},
   "outputs": [],
   "source": [
    "nsamples, nx, ny, nz = x_train.shape\n",
    "d2_x_train = x_train.reshape((nsamples,nx*ny*nz))\n",
    "\n",
    "nsamples, nx, ny, nz = x_test.shape\n",
    "d2_x_test = x_test.reshape((nsamples,nx*ny*nz))"
   ]
  },
  {
   "cell_type": "markdown",
   "metadata": {},
   "source": [
    "## PCA\n",
    "By performing a PCA, I'll try to identify, if dimensions of the 2d arrays can be reduced"
   ]
  },
  {
   "cell_type": "code",
   "execution_count": 25,
   "metadata": {},
   "outputs": [
    {
     "data": {
      "text/plain": [
       "PCA()"
      ]
     },
     "execution_count": 25,
     "metadata": {},
     "output_type": "execute_result"
    }
   ],
   "source": [
    "import numpy as np\n",
    "from sklearn.decomposition import PCA\n",
    "pca = PCA()\n",
    "pca.fit(d2_x_train)"
   ]
  },
  {
   "cell_type": "code",
   "execution_count": 26,
   "metadata": {},
   "outputs": [
    {
     "data": {
      "text/plain": [
       "[<matplotlib.lines.Line2D at 0x7f138a8904c0>]"
      ]
     },
     "execution_count": 26,
     "metadata": {},
     "output_type": "execute_result"
    },
    {
     "data": {
      "image/png": "[encoded data removed]",
      "text/plain": [
       "<Figure size 432x288 with 1 Axes>"
      ]
     },
     "metadata": {
      "needs_background": "light"
     },
     "output_type": "display_data"
    }
   ],
   "source": [
    "import matplotlib.pyplot as plt\n",
    "%matplotlib inline\n",
    "plt.plot(pca.singular_values_)"
   ]
  },
  {
   "cell_type": "markdown",
   "metadata": {},
   "source": [
    "The values for all dimensions seem to be above 0, therefore the dimensions will not be reduced in this case.\n",
    "Also the running time of the ML algorithms is adequate, therefore there is no need to risk even a small amount of information loss"
   ]
  },
  {
   "cell_type": "code",
   "execution_count": null,
   "metadata": {},
   "outputs": [],
   "source": []
  },
  {
   "cell_type": "code",
   "execution_count": null,
   "metadata": {},
   "outputs": [],
   "source": []
  },
  {
   "cell_type": "markdown",
   "metadata": {},
   "source": [
    "## Random Forest Classifier"
   ]
  },
  {
   "cell_type": "code",
   "execution_count": 27,
   "metadata": {},
   "outputs": [],
   "source": [
    "from sklearn.ensemble import RandomForestClassifier\n",
    "rf = RandomForestClassifier(n_estimators=3000,max_depth=None,n_jobs=-1)\n",
    "rf_model = rf.fit(d2_x_train,y2_train)"
   ]
  },
  {
   "cell_type": "code",
   "execution_count": 28,
   "metadata": {},
   "outputs": [
    {
     "name": "stdout",
     "output_type": "stream",
     "text": [
      "Random Forest:\n",
      "              precision    recall  f1-score   support\n",
      "\n",
      "           0       1.00      0.83      0.91        24\n",
      "           1       0.95      0.70      0.81        30\n",
      "           2       1.00      0.88      0.94        25\n",
      "           3       1.00      0.83      0.91        18\n",
      "           4       1.00      0.78      0.88        18\n",
      "           5       1.00      0.88      0.94        26\n",
      "           6       1.00      0.67      0.80        18\n",
      "           7       1.00      0.82      0.90        28\n",
      "           8       1.00      0.79      0.88        24\n",
      "           9       0.88      0.88      0.88        25\n",
      "          10       1.00      0.77      0.87        26\n",
      "          11       0.96      0.83      0.89        29\n",
      "          12       1.00      0.89      0.94        35\n",
      "          13       1.00      0.89      0.94        35\n",
      "          14       0.97      0.74      0.84        43\n",
      "          15       0.96      1.00      0.98        24\n",
      "          16       1.00      0.67      0.80        24\n",
      "          17       1.00      0.94      0.97        18\n",
      "          18       1.00      1.00      1.00        20\n",
      "\n",
      "   micro avg       0.98      0.83      0.90       490\n",
      "   macro avg       0.99      0.83      0.90       490\n",
      "weighted avg       0.98      0.83      0.90       490\n",
      " samples avg       0.83      0.83      0.83       490\n",
      "\n"
     ]
    },
    {
     "name": "stderr",
     "output_type": "stream",
     "text": [
      "/home/kromy/anaconda3/lib/python3.8/site-packages/sklearn/metrics/_classification.py:1221: UndefinedMetricWarning: Precision and F-score are ill-defined and being set to 0.0 in samples with no predicted labels. Use `zero_division` parameter to control this behavior.\n",
      "  _warn_prf(average, modifier, msg_start, len(result))\n"
     ]
    }
   ],
   "source": [
    "from sklearn.metrics import classification_report\n",
    "predictrf = rf_model.predict(d2_x_test)\n",
    "print (\"Random Forest:\\n\"+classification_report(y2_test, predictrf))"
   ]
  },
  {
   "cell_type": "code",
   "execution_count": 29,
   "metadata": {},
   "outputs": [
    {
     "data": {
      "text/plain": [
       "0.8527583527583528"
      ]
     },
     "execution_count": 29,
     "metadata": {},
     "output_type": "execute_result"
    }
   ],
   "source": [
    "from sklearn.metrics import f1_score\n",
    "f1_score(y2_test, predictrf, average='weighted', labels=np.unique(predictrf))"
   ]
  },
  {
   "cell_type": "markdown",
   "metadata": {},
   "source": [
    "## KNN Classifier"
   ]
  },
  {
   "cell_type": "code",
   "execution_count": 30,
   "metadata": {},
   "outputs": [],
   "source": [
    "from sklearn.neighbors import KNeighborsClassifier\n",
    "KNN_Classifier = KNeighborsClassifier(n_jobs=-1)\n",
    "KNN_Classifier.fit(d2_x_train,y2_train); "
   ]
  },
  {
   "cell_type": "code",
   "execution_count": 31,
   "metadata": {},
   "outputs": [
    {
     "name": "stdout",
     "output_type": "stream",
     "text": [
      "KNN:\n",
      "              precision    recall  f1-score   support\n",
      "\n",
      "           0       0.96      0.92      0.94        24\n",
      "           1       0.82      0.77      0.79        30\n",
      "           2       0.92      0.92      0.92        25\n",
      "           3       0.95      1.00      0.97        18\n",
      "           4       1.00      0.89      0.94        18\n",
      "           5       1.00      0.88      0.94        26\n",
      "           6       1.00      0.50      0.67        18\n",
      "           7       0.96      0.82      0.88        28\n",
      "           8       0.95      0.83      0.89        24\n",
      "           9       0.84      0.84      0.84        25\n",
      "          10       1.00      0.92      0.96        26\n",
      "          11       0.96      0.90      0.93        29\n",
      "          12       1.00      0.91      0.96        35\n",
      "          13       0.87      0.77      0.82        35\n",
      "          14       0.79      0.88      0.84        43\n",
      "          15       0.96      1.00      0.98        24\n",
      "          16       0.92      1.00      0.96        24\n",
      "          17       1.00      0.89      0.94        18\n",
      "          18       1.00      1.00      1.00        20\n",
      "\n",
      "   micro avg       0.93      0.88      0.90       490\n",
      "   macro avg       0.94      0.88      0.90       490\n",
      "weighted avg       0.93      0.88      0.90       490\n",
      " samples avg       0.88      0.88      0.88       490\n",
      "\n"
     ]
    },
    {
     "name": "stderr",
     "output_type": "stream",
     "text": [
      "/home/kromy/anaconda3/lib/python3.8/site-packages/sklearn/metrics/_classification.py:1221: UndefinedMetricWarning: Precision and F-score are ill-defined and being set to 0.0 in samples with no predicted labels. Use `zero_division` parameter to control this behavior.\n",
      "  _warn_prf(average, modifier, msg_start, len(result))\n"
     ]
    }
   ],
   "source": [
    "predictkn = KNN_Classifier.predict(d2_x_test)\n",
    "print (\"KNN:\\n\"+classification_report(y2_test, predictkn))"
   ]
  },
  {
   "cell_type": "code",
   "execution_count": 32,
   "metadata": {},
   "outputs": [
    {
     "data": {
      "text/plain": [
       "0.8566886769381266"
      ]
     },
     "execution_count": 32,
     "metadata": {},
     "output_type": "execute_result"
    }
   ],
   "source": [
    "from sklearn.metrics import f1_score\n",
    "f1_score(y2_test, predictkn, average='weighted', labels=np.unique(predictkn))"
   ]
  },
  {
   "cell_type": "markdown",
   "metadata": {},
   "source": [
    "# Version 2: Keras Sequential"
   ]
  },
  {
   "cell_type": "code",
   "execution_count": 33,
   "metadata": {},
   "outputs": [],
   "source": [
    "import matplotlib.image as mpimg\n",
    "import seaborn as sns\n",
    "%matplotlib inline\n",
    "\n",
    "np.random.seed(2)\n",
    "\n",
    "from sklearn.model_selection import train_test_split\n",
    "from sklearn.metrics import confusion_matrix\n",
    "import itertools\n",
    "\n",
    "from keras.utils.np_utils import to_categorical # convert to one-hot-encoding\n",
    "from keras.models import Sequential\n",
    "from keras.layers import Dense, Dropout, Flatten, Conv2D, MaxPool2D\n",
    "from keras.optimizers import RMSprop\n",
    "from keras.preprocessing.image import ImageDataGenerator\n",
    "from keras.callbacks import ReduceLROnPlateau\n",
    "\n",
    "\n",
    "sns.set(style='white', context='notebook', palette='deep')"
   ]
  },
  {
   "cell_type": "code",
   "execution_count": 34,
   "metadata": {},
   "outputs": [],
   "source": [
    "model = Sequential()\n",
    "model.add(Conv2D(filters = 16, kernel_size = (5,5),padding = 'Same', \n",
    "                 activation ='relu', input_shape = (50,30,1)))\n",
    "model.add(Conv2D(filters = 16, kernel_size = (5,5),padding = 'Same', \n",
    "                 activation ='relu'))\n",
    "model.add(MaxPool2D(pool_size=(2,2)))\n",
    "model.add(Dropout(0.25))\n",
    "\n",
    "model.add(Conv2D(filters = 32, kernel_size = (5,5),padding = 'Same', \n",
    "                 activation ='relu'))\n",
    "model.add(Conv2D(filters = 32, kernel_size = (5,5),padding = 'Same', \n",
    "                 activation ='relu'))\n",
    "model.add(MaxPool2D(pool_size=(2,2)))\n",
    "model.add(Dropout(0.25))\n",
    "\n",
    "\n",
    "model.add(Conv2D(filters = 64, kernel_size = (3,3),padding = 'Same', \n",
    "                 activation ='relu'))\n",
    "model.add(Conv2D(filters = 64, kernel_size = (3,3),padding = 'Same', \n",
    "                 activation ='relu'))\n",
    "model.add(MaxPool2D(pool_size=(2,2), strides=(2,2)))\n",
    "model.add(Dropout(0.25))\n",
    "\n",
    "model.add(Flatten())\n",
    "model.add(Dense(256, activation = \"relu\"))\n",
    "model.add(Dropout(0.5))\n",
    "model.add(Dense(19, activation = \"softmax\"))"
   ]
  },
  {
   "cell_type": "code",
   "execution_count": 35,
   "metadata": {},
   "outputs": [],
   "source": [
    "optimizer = RMSprop(lr=0.001, rho=0.9, epsilon=1e-08, decay=0.0)\n",
    "model.compile(optimizer = optimizer , loss = \"categorical_crossentropy\", metrics=[\"accuracy\"])\n",
    "learning_rate_reduction = ReduceLROnPlateau(monitor='val_accuracy', \n",
    "                                            patience=3, \n",
    "                                            verbose=1, \n",
    "                                            factor=0.5, \n",
    "                                            min_lr=0.00001)"
   ]
  },
  {
   "cell_type": "code",
   "execution_count": 36,
   "metadata": {},
   "outputs": [],
   "source": [
    "batch_size = 86"
   ]
  },
  {
   "cell_type": "code",
   "execution_count": null,
   "metadata": {},
   "outputs": [],
   "source": []
  },
  {
   "cell_type": "code",
   "execution_count": 37,
   "metadata": {},
   "outputs": [],
   "source": [
    "datagen = ImageDataGenerator(\n",
    "        featurewise_center=False,  # set input mean to 0 over the dataset\n",
    "        samplewise_center=False,  # set each sample mean to 0\n",
    "        featurewise_std_normalization=False,  # divide inputs by std of the dataset\n",
    "        samplewise_std_normalization=False,  # divide each input by its std\n",
    "        zca_whitening=False,  # apply ZCA whitening\n",
    "        rotation_range=5,  # randomly rotate images in the range (degrees, 0 to 180)\n",
    "        zoom_range = False, # Randomly zoom image \n",
    "        width_shift_range=0.1,  # randomly shift images horizontally (fraction of total width)\n",
    "        height_shift_range=0.1,  # randomly shift images vertically (fraction of total height)\n",
    "        horizontal_flip=False,  # randomly flip images\n",
    "        vertical_flip=False)  # randomly flip images"
   ]
  },
  {
   "cell_type": "code",
   "execution_count": 38,
   "metadata": {},
   "outputs": [],
   "source": [
    "datagen.fit(x_train)"
   ]
  },
  {
   "cell_type": "code",
   "execution_count": 39,
   "metadata": {},
   "outputs": [
    {
     "name": "stdout",
     "output_type": "stream",
     "text": [
      "Epoch 1/30\n",
      "54/54 [==============================] - ETA: 0s - loss: 4.1517 - accuracy: 0.0922WARNING:tensorflow:Model was constructed with shape (None, 50, 30, 1) for input KerasTensor(type_spec=TensorSpec(shape=(None, 50, 30, 1), dtype=tf.float32, name='conv2d_input'), name='conv2d_input', description=\"created by layer 'conv2d_input'\"), but it was called on an input with incompatible shape (None, 54, 30, 1).\n",
      "54/54 [==============================] - 16s 283ms/step - loss: 4.1327 - accuracy: 0.0927 - val_loss: 2.2706 - val_accuracy: 0.2673\n",
      "Epoch 2/30\n",
      "54/54 [==============================] - 15s 276ms/step - loss: 2.5213 - accuracy: 0.1989 - val_loss: 1.4006 - val_accuracy: 0.5714\n",
      "Epoch 3/30\n",
      "54/54 [==============================] - 15s 278ms/step - loss: 1.7877 - accuracy: 0.4477 - val_loss: 0.8931 - val_accuracy: 0.7082\n",
      "Epoch 4/30\n",
      "54/54 [==============================] - 15s 281ms/step - loss: 1.2416 - accuracy: 0.6154 - val_loss: 0.6682 - val_accuracy: 0.7755\n",
      "Epoch 5/30\n",
      "54/54 [==============================] - 15s 282ms/step - loss: 0.8949 - accuracy: 0.7348 - val_loss: 0.5354 - val_accuracy: 0.8224\n",
      "Epoch 6/30\n",
      "54/54 [==============================] - 15s 283ms/step - loss: 0.7293 - accuracy: 0.7721 - val_loss: 0.3988 - val_accuracy: 0.8735\n",
      "Epoch 7/30\n",
      "54/54 [==============================] - 16s 287ms/step - loss: 0.6392 - accuracy: 0.8071 - val_loss: 0.3730 - val_accuracy: 0.8980\n",
      "Epoch 8/30\n",
      "54/54 [==============================] - 16s 291ms/step - loss: 0.5826 - accuracy: 0.8324 - val_loss: 0.3367 - val_accuracy: 0.8980\n",
      "Epoch 9/30\n",
      "54/54 [==============================] - 16s 293ms/step - loss: 0.5175 - accuracy: 0.8412 - val_loss: 0.3033 - val_accuracy: 0.9143\n",
      "Epoch 10/30\n",
      "54/54 [==============================] - 16s 296ms/step - loss: 0.4125 - accuracy: 0.8650 - val_loss: 0.2569 - val_accuracy: 0.9102\n",
      "Epoch 11/30\n",
      "54/54 [==============================] - 16s 298ms/step - loss: 0.3966 - accuracy: 0.8823 - val_loss: 0.2794 - val_accuracy: 0.8980\n",
      "Epoch 12/30\n",
      "54/54 [==============================] - 16s 301ms/step - loss: 0.3572 - accuracy: 0.8855 - val_loss: 0.2549 - val_accuracy: 0.9122\n",
      "\n",
      "Epoch 00012: ReduceLROnPlateau reducing learning rate to 0.0005000000237487257.\n",
      "Epoch 13/30\n",
      "54/54 [==============================] - 17s 305ms/step - loss: 0.2710 - accuracy: 0.9116 - val_loss: 0.2154 - val_accuracy: 0.9265\n",
      "Epoch 14/30\n",
      "54/54 [==============================] - 17s 306ms/step - loss: 0.2596 - accuracy: 0.9171 - val_loss: 0.1951 - val_accuracy: 0.9367\n",
      "Epoch 15/30\n",
      "54/54 [==============================] - 17s 306ms/step - loss: 0.2266 - accuracy: 0.9382 - val_loss: 0.1867 - val_accuracy: 0.9408\n",
      "Epoch 16/30\n",
      "54/54 [==============================] - 17s 309ms/step - loss: 0.2394 - accuracy: 0.9288 - val_loss: 0.1836 - val_accuracy: 0.9347\n",
      "Epoch 17/30\n",
      "54/54 [==============================] - 17s 310ms/step - loss: 0.2271 - accuracy: 0.9327 - val_loss: 0.2071 - val_accuracy: 0.9286\n",
      "Epoch 18/30\n",
      "54/54 [==============================] - 17s 309ms/step - loss: 0.2213 - accuracy: 0.9336 - val_loss: 0.1883 - val_accuracy: 0.9510\n",
      "Epoch 19/30\n",
      "54/54 [==============================] - 17s 311ms/step - loss: 0.2249 - accuracy: 0.9374 - val_loss: 0.1712 - val_accuracy: 0.9367\n",
      "Epoch 20/30\n",
      "54/54 [==============================] - 17s 311ms/step - loss: 0.2232 - accuracy: 0.9364 - val_loss: 0.1951 - val_accuracy: 0.9367\n",
      "Epoch 21/30\n",
      "54/54 [==============================] - 17s 313ms/step - loss: 0.1838 - accuracy: 0.9424 - val_loss: 0.1723 - val_accuracy: 0.9367\n",
      "\n",
      "Epoch 00021: ReduceLROnPlateau reducing learning rate to 0.0002500000118743628.\n",
      "Epoch 22/30\n",
      "54/54 [==============================] - 17s 311ms/step - loss: 0.1693 - accuracy: 0.9519 - val_loss: 0.1586 - val_accuracy: 0.9469\n",
      "Epoch 23/30\n",
      "54/54 [==============================] - 17s 311ms/step - loss: 0.1850 - accuracy: 0.9448 - val_loss: 0.1663 - val_accuracy: 0.9510\n",
      "Epoch 24/30\n",
      "54/54 [==============================] - 17s 313ms/step - loss: 0.1597 - accuracy: 0.9525 - val_loss: 0.1656 - val_accuracy: 0.9469\n",
      "\n",
      "Epoch 00024: ReduceLROnPlateau reducing learning rate to 0.0001250000059371814.\n",
      "Epoch 25/30\n",
      "54/54 [==============================] - 17s 316ms/step - loss: 0.1445 - accuracy: 0.9653 - val_loss: 0.1563 - val_accuracy: 0.9592\n",
      "Epoch 26/30\n",
      "54/54 [==============================] - 17s 314ms/step - loss: 0.1385 - accuracy: 0.9588 - val_loss: 0.1468 - val_accuracy: 0.9531\n",
      "Epoch 27/30\n",
      "54/54 [==============================] - 17s 316ms/step - loss: 0.1242 - accuracy: 0.9626 - val_loss: 0.1464 - val_accuracy: 0.9592\n",
      "Epoch 28/30\n",
      "54/54 [==============================] - 17s 313ms/step - loss: 0.1442 - accuracy: 0.9584 - val_loss: 0.1430 - val_accuracy: 0.9571\n",
      "\n",
      "Epoch 00028: ReduceLROnPlateau reducing learning rate to 6.25000029685907e-05.\n",
      "Epoch 29/30\n",
      "54/54 [==============================] - 17s 315ms/step - loss: 0.1313 - accuracy: 0.9602 - val_loss: 0.1542 - val_accuracy: 0.9531\n",
      "Epoch 30/30\n",
      "54/54 [==============================] - 17s 314ms/step - loss: 0.1300 - accuracy: 0.9634 - val_loss: 0.1463 - val_accuracy: 0.9551\n"
     ]
    }
   ],
   "source": [
    "history = model.fit(datagen.flow(x_train,y2_train, batch_size=batch_size),\n",
    "                              epochs =  30, validation_data = (x_test,y2_test),\n",
    "                              verbose = 1, steps_per_epoch=x_train.shape[0] // batch_size\n",
    "                              , callbacks=[learning_rate_reduction])"
   ]
  },
  {
   "cell_type": "code",
   "execution_count": 40,
   "metadata": {},
   "outputs": [
    {
     "data": {
      "image/png": "[encoded data removed]",
      "text/plain": [
       "<Figure size 1080x576 with 1 Axes>"
      ]
     },
     "metadata": {},
     "output_type": "display_data"
    }
   ],
   "source": [
    "plt.figure(figsize=(15,8))\n",
    "plt.plot(history.history['loss'])\n",
    "plt.plot(history.history['val_loss'])\n",
    "plt.title('model loss')\n",
    "plt.ylabel('loss')\n",
    "plt.xlabel('epoch')\n",
    "plt.legend(['train', 'test'], loc='upper left')\n",
    "plt.show()"
   ]
  },
  {
   "cell_type": "code",
   "execution_count": 41,
   "metadata": {},
   "outputs": [
    {
     "data": {
      "image/png": "[encoded data removed]",
      "text/plain": [
       "<Figure size 1080x576 with 1 Axes>"
      ]
     },
     "metadata": {},
     "output_type": "display_data"
    }
   ],
   "source": [
    "plt.figure(figsize=(15,8))\n",
    "plt.plot(history.history['accuracy'])\n",
    "plt.plot(history.history['val_accuracy'])\n",
    "plt.title('model loss')\n",
    "plt.ylabel('accuracy')\n",
    "plt.xlabel('epoch')\n",
    "plt.legend(['train', 'test'], loc='upper left')\n",
    "plt.show()"
   ]
  },
  {
   "cell_type": "code",
   "execution_count": 42,
   "metadata": {},
   "outputs": [
    {
     "name": "stdout",
     "output_type": "stream",
     "text": [
      "The final accuracy is:  0.9619377255439758\n"
     ]
    }
   ],
   "source": [
    "print(\"The final accuracy is: \",history.history['accuracy'][-1])\n"
   ]
  },
  {
   "cell_type": "code",
   "execution_count": null,
   "metadata": {},
   "outputs": [],
   "source": []
  },
  {
   "cell_type": "code",
   "execution_count": null,
   "metadata": {},
   "outputs": [],
   "source": []
  },
  {
   "cell_type": "markdown",
   "metadata": {},
   "source": [
    "Links:\n",
    "\n",
    "https://www.kaggle.com/bharatbansal/ocr-with-opencv-92-9-accuracy-on-captcha-codes#Loading-images\n",
    "\n",
    "\n",
    "https://stackoverflow.com/questions/43162506/undefinedmetricwarning-f-score-is-ill-defined-and-being-set-to-0-0-in-labels-wi\n",
    "\n",
    "https://stackoverflow.com/questions/34972142/sklearn-logistic-regression-valueerror-found-array-with-dim-3-estimator-expec\n",
    "\n",
    "https://www.tutorialspoint.com/jupyter/jupyter_notebook_markdown_cells.htm\n"
   ]
  },
  {
   "cell_type": "markdown",
   "metadata": {},
   "source": [
    "# Predicting a single image"
   ]
  },
  {
   "cell_type": "code",
   "execution_count": 43,
   "metadata": {},
   "outputs": [],
   "source": [
    "test_dir = Path(\"./test/\")"
   ]
  },
  {
   "cell_type": "code",
   "execution_count": 44,
   "metadata": {},
   "outputs": [],
   "source": [
    "image = list(test_dir.glob(\"*.png\"))[9]"
   ]
  },
  {
   "cell_type": "code",
   "execution_count": 45,
   "metadata": {},
   "outputs": [],
   "source": [
    " im=cv2.imread(str(image),0)"
   ]
  },
  {
   "cell_type": "code",
   "execution_count": 46,
   "metadata": {},
   "outputs": [
    {
     "data": {
      "image/png": "[encoded data removed]",
      "text/plain": [
       "<Figure size 432x288 with 1 Axes>"
      ]
     },
     "metadata": {},
     "output_type": "display_data"
    }
   ],
   "source": [
    "\n",
    "\n",
    "c = plt.imshow(im) \n",
    "plt.show() "
   ]
  },
  {
   "cell_type": "code",
   "execution_count": 47,
   "metadata": {},
   "outputs": [],
   "source": [
    "x_ex=[]\n",
    "y_ex=[]\n",
    "\n",
    "threshold=cv2.adaptiveThreshold(im, 255, cv2.ADAPTIVE_THRESH_GAUSSIAN_C,cv2.THRESH_BINARY, 199, 5)\n",
    "erosion =cv2.dilate(threshold,kernel,iterations=2)\n",
    "s=str(image)\n",
    "for i in range(5):\n",
    "    x_ex.append(pad(erosion[:,(30+23*i):(30+23*(i+1))]))\n",
    "    y_ex.append(s[-9+i])"
   ]
  },
  {
   "cell_type": "code",
   "execution_count": 48,
   "metadata": {},
   "outputs": [
    {
     "data": {
      "text/plain": [
       "'7'"
      ]
     },
     "execution_count": 48,
     "metadata": {},
     "output_type": "execute_result"
    },
    {
     "data": {
      "image/png": "[encoded data removed]",
      "text/plain": [
       "<Figure size 432x288 with 1 Axes>"
      ]
     },
     "metadata": {},
     "output_type": "display_data"
    }
   ],
   "source": [
    "plt.imshow(x_ex[0])\n",
    "y_ex[0]"
   ]
  },
  {
   "cell_type": "code",
   "execution_count": 49,
   "metadata": {},
   "outputs": [
    {
     "data": {
      "text/plain": [
       "'g'"
      ]
     },
     "execution_count": 49,
     "metadata": {},
     "output_type": "execute_result"
    },
    {
     "data": {
      "image/png": "[encoded data removed]",
      "text/plain": [
       "<Figure size 432x288 with 1 Axes>"
      ]
     },
     "metadata": {},
     "output_type": "display_data"
    }
   ],
   "source": [
    "plt.imshow(x_ex[1])\n",
    "y_ex[1]"
   ]
  },
  {
   "cell_type": "code",
   "execution_count": 50,
   "metadata": {},
   "outputs": [
    {
     "data": {
      "text/plain": [
       "'3'"
      ]
     },
     "execution_count": 50,
     "metadata": {},
     "output_type": "execute_result"
    },
    {
     "data": {
      "image/png": "[encoded data removed]",
      "text/plain": [
       "<Figure size 432x288 with 1 Axes>"
      ]
     },
     "metadata": {},
     "output_type": "display_data"
    }
   ],
   "source": [
    "plt.imshow(x_ex[2])\n",
    "y_ex[2]"
   ]
  },
  {
   "cell_type": "code",
   "execution_count": 51,
   "metadata": {},
   "outputs": [
    {
     "data": {
      "text/plain": [
       "'n'"
      ]
     },
     "execution_count": 51,
     "metadata": {},
     "output_type": "execute_result"
    },
    {
     "data": {
      "image/png": "[encoded data removed]",
      "text/plain": [
       "<Figure size 432x288 with 1 Axes>"
      ]
     },
     "metadata": {},
     "output_type": "display_data"
    }
   ],
   "source": [
    "plt.imshow(x_ex[3])\n",
    "y_ex[3]"
   ]
  },
  {
   "cell_type": "code",
   "execution_count": 52,
   "metadata": {},
   "outputs": [
    {
     "data": {
      "text/plain": [
       "'f'"
      ]
     },
     "execution_count": 52,
     "metadata": {},
     "output_type": "execute_result"
    },
    {
     "data": {
      "image/png": "[encoded data removed]",
      "text/plain": [
       "<Figure size 432x288 with 1 Axes>"
      ]
     },
     "metadata": {},
     "output_type": "display_data"
    }
   ],
   "source": [
    "plt.imshow(x_ex[4])\n",
    "y_ex[4]"
   ]
  },
  {
   "cell_type": "code",
   "execution_count": 53,
   "metadata": {},
   "outputs": [],
   "source": [
    "x_ex=np.array(x_ex)\n",
    "y_ex=np.array(y_ex)"
   ]
  },
  {
   "cell_type": "code",
   "execution_count": null,
   "metadata": {},
   "outputs": [],
   "source": []
  },
  {
   "cell_type": "code",
   "execution_count": 54,
   "metadata": {},
   "outputs": [],
   "source": [
    "x_ex=np.reshape(x_ex,(-1,54,30,1))"
   ]
  },
  {
   "cell_type": "code",
   "execution_count": 55,
   "metadata": {},
   "outputs": [],
   "source": [
    "y2_ex = []\n",
    "l=['2','3','4','5','6','7','8','b','c','d','e','f','g','m','n','p','w','x','y']\n",
    "for j in y_ex:\n",
    "    i=l.index(j)\n",
    "    a=[]\n",
    "    for r in range(19):\n",
    "        if(r==i):\n",
    "            a.append(1)\n",
    "        else:\n",
    "            a.append(0)\n",
    "    a=np.array(a)\n",
    "    y2_ex.append(a)\n",
    "y2_ex=np.array(y2_ex)  "
   ]
  },
  {
   "cell_type": "code",
   "execution_count": null,
   "metadata": {},
   "outputs": [],
   "source": []
  },
  {
   "cell_type": "code",
   "execution_count": 56,
   "metadata": {},
   "outputs": [
    {
     "name": "stdout",
     "output_type": "stream",
     "text": [
      "WARNING:tensorflow:Model was constructed with shape (None, 50, 30, 1) for input KerasTensor(type_spec=TensorSpec(shape=(None, 50, 30, 1), dtype=tf.float32, name='conv2d_input'), name='conv2d_input', description=\"created by layer 'conv2d_input'\"), but it was called on an input with incompatible shape (None, 54, 30, 1).\n"
     ]
    }
   ],
   "source": [
    "Y_pred = model.predict(x_ex)\n"
   ]
  },
  {
   "cell_type": "code",
   "execution_count": 57,
   "metadata": {},
   "outputs": [
    {
     "data": {
      "text/plain": [
       "(5, 19)"
      ]
     },
     "execution_count": 57,
     "metadata": {},
     "output_type": "execute_result"
    }
   ],
   "source": [
    "Y_pred.shape"
   ]
  },
  {
   "cell_type": "code",
   "execution_count": 58,
   "metadata": {},
   "outputs": [
    {
     "data": {
      "text/plain": [
       "array([[1.63563456e-08, 4.64784167e-09, 8.82271890e-15, 7.10670911e-10,\n",
       "        1.32006576e-11, 1.00000000e+00, 1.20581175e-15, 2.67285651e-13,\n",
       "        7.46706841e-14, 1.50927925e-12, 7.02956050e-20, 6.32510103e-12,\n",
       "        1.75610039e-14, 1.61307515e-14, 5.71538056e-14, 1.90055285e-12,\n",
       "        1.01868861e-16, 7.86294085e-11, 9.05383712e-10],\n",
       "       [1.04124261e-19, 1.38093861e-19, 3.16094853e-21, 1.67348024e-20,\n",
       "        9.01262644e-17, 4.50182838e-20, 8.87501789e-20, 2.13146460e-15,\n",
       "        3.36064830e-18, 2.95796330e-12, 6.77033435e-18, 2.53806885e-24,\n",
       "        1.00000000e+00, 1.47153735e-21, 7.25298679e-18, 6.86246308e-17,\n",
       "        1.26550786e-23, 1.10338323e-15, 2.53000747e-16],\n",
       "       [7.55494734e-13, 1.00000000e+00, 1.62385232e-17, 2.30049703e-13,\n",
       "        6.88504325e-16, 1.08759030e-13, 5.83801688e-11, 1.15502900e-18,\n",
       "        2.75479330e-18, 1.79820793e-18, 3.05253363e-20, 1.49114774e-18,\n",
       "        4.45531707e-16, 3.52898433e-21, 7.92840365e-19, 1.48344950e-17,\n",
       "        2.05648673e-26, 1.24621021e-17, 4.93117684e-22],\n",
       "       [3.14120821e-12, 6.62093297e-11, 9.17715903e-10, 1.40100209e-10,\n",
       "        4.43316956e-08, 9.36992324e-12, 8.42279198e-12, 5.74796900e-07,\n",
       "        2.41631026e-09, 6.71967135e-11, 1.24050086e-08, 4.68779326e-08,\n",
       "        5.35761657e-10, 7.90883405e-07, 9.99998331e-01, 2.03248391e-07,\n",
       "        1.13207053e-08, 1.74800729e-10, 1.39387210e-10],\n",
       "       [1.24805565e-11, 3.00244662e-10, 1.65289382e-08, 5.87514783e-08,\n",
       "        6.22991720e-08, 1.13377143e-06, 1.26647540e-10, 2.21048246e-09,\n",
       "        4.45581971e-09, 3.76546433e-11, 6.46322926e-12, 9.99998569e-01,\n",
       "        6.87995320e-12, 6.76311771e-08, 1.11358737e-07, 9.93384153e-10,\n",
       "        8.63082696e-12, 5.82877635e-10, 3.27883711e-08]], dtype=float32)"
      ]
     },
     "execution_count": 58,
     "metadata": {},
     "output_type": "execute_result"
    }
   ],
   "source": [
    "Y_pred"
   ]
  },
  {
   "cell_type": "raw",
   "metadata": {},
   "source": []
  },
  {
   "cell_type": "code",
   "execution_count": 59,
   "metadata": {},
   "outputs": [],
   "source": [
    "Y_pred_classes = np.argmax(Y_pred,axis=1)"
   ]
  },
  {
   "cell_type": "code",
   "execution_count": 60,
   "metadata": {},
   "outputs": [
    {
     "data": {
      "text/plain": [
       "array([ 5, 12,  1, 14, 11])"
      ]
     },
     "execution_count": 60,
     "metadata": {},
     "output_type": "execute_result"
    }
   ],
   "source": [
    "Y_pred_classes"
   ]
  },
  {
   "cell_type": "code",
   "execution_count": 61,
   "metadata": {},
   "outputs": [],
   "source": [
    "Y_true_classes = np.argmax(y2_ex,axis = 1)\n"
   ]
  },
  {
   "cell_type": "code",
   "execution_count": 62,
   "metadata": {},
   "outputs": [
    {
     "data": {
      "text/plain": [
       "array([ 5, 12,  1, 14, 11])"
      ]
     },
     "execution_count": 62,
     "metadata": {},
     "output_type": "execute_result"
    }
   ],
   "source": [
    "Y_true_classes"
   ]
  },
  {
   "cell_type": "code",
   "execution_count": 63,
   "metadata": {},
   "outputs": [
    {
     "name": "stdout",
     "output_type": "stream",
     "text": [
      "7\n",
      "g\n",
      "3\n",
      "n\n",
      "f\n"
     ]
    }
   ],
   "source": [
    "for j in Y_pred_classes:\n",
    "    print(l[j])"
   ]
  },
  {
   "cell_type": "code",
   "execution_count": null,
   "metadata": {},
   "outputs": [],
   "source": []
  },
  {
   "cell_type": "code",
   "execution_count": null,
   "metadata": {},
   "outputs": [],
   "source": []
  },
  {
   "cell_type": "code",
   "execution_count": null,
   "metadata": {},
   "outputs": [],
   "source": []
  }
 ],
 "metadata": {
  "kernelspec": {
   "display_name": "Python 3",
   "language": "python",
   "name": "python3"
  },
  "language_info": {
   "codemirror_mode": {
    "name": "ipython",
    "version": 3
   },
   "file_extension": ".py",
   "mimetype": "text/x-python",
   "name": "python",
   "nbconvert_exporter": "python",
   "pygments_lexer": "ipython3",
   "version": "3.8.3"
  }
 },
 "nbformat": 4,
 "nbformat_minor": 4
}
