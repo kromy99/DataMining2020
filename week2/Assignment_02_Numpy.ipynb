{
 "cells": [
  {
   "cell_type": "markdown",
   "metadata": {},
   "source": [
    "# Assignment: Numpy"
   ]
  },
  {
   "cell_type": "markdown",
   "metadata": {},
   "source": [
    "Perform the follwing tasks:\n"
   ]
  },
  {
   "cell_type": "code",
   "execution_count": 1,
   "metadata": {},
   "outputs": [],
   "source": [
    "#1: import the numpy library\n",
    "import numpy as np\n",
    "import matplotlib.pyplot as plt"
   ]
  },
  {
   "cell_type": "code",
   "execution_count": 2,
   "metadata": {},
   "outputs": [
    {
     "data": {
      "text/plain": [
       "array([[0.02323702, 0.22377635, 0.54511761, 0.93523434, 0.22806901,\n",
       "        0.80159956, 0.37799587, 0.27061196, 0.7176575 , 0.49681642],\n",
       "       [0.38003658, 0.49227282, 0.914702  , 0.08409354, 0.67509601,\n",
       "        0.43644349, 0.51436704, 0.30505337, 0.11583076, 0.97340026],\n",
       "       [0.10710716, 0.83491414, 0.12117131, 0.83966008, 0.50310671,\n",
       "        0.89564276, 0.15441892, 0.3070647 , 0.2608064 , 0.79927729],\n",
       "       [0.7494448 , 0.89441988, 0.08220235, 0.50725088, 0.98192452,\n",
       "        0.15962925, 0.95655403, 0.7064924 , 0.61561201, 0.57760796],\n",
       "       [0.96811639, 0.16226143, 0.92492154, 0.6896323 , 0.71995109,\n",
       "        0.88553449, 0.34478317, 0.63005174, 0.83342184, 0.23060531],\n",
       "       [0.71502988, 0.10682717, 0.90794408, 0.19482706, 0.81515084,\n",
       "        0.89848646, 0.29001788, 0.90649656, 0.09548144, 0.11514422],\n",
       "       [0.94474149, 0.71880022, 0.74932999, 0.60510409, 0.81133235,\n",
       "        0.71383845, 0.48763359, 0.16929628, 0.77640132, 0.43887344],\n",
       "       [0.58920311, 0.15982828, 0.27256162, 0.56159261, 0.19583115,\n",
       "        0.08425564, 0.55275428, 0.01164448, 0.26997215, 0.32185699],\n",
       "       [0.13019141, 0.94482076, 0.4515065 , 0.64735198, 0.12618875,\n",
       "        0.98174508, 0.02604308, 0.23638047, 0.22176616, 0.27506282],\n",
       "       [0.72505574, 0.77040054, 0.12104306, 0.79727746, 0.78465897,\n",
       "        0.74357883, 0.74764518, 0.87187563, 0.43554154, 0.17642467]])"
      ]
     },
     "execution_count": 2,
     "metadata": {},
     "output_type": "execute_result"
    }
   ],
   "source": [
    "#2: create a random 10x10 array named A\n",
    "A = np.random.rand(10,10)\n",
    "A"
   ]
  },
  {
   "cell_type": "code",
   "execution_count": 3,
   "metadata": {},
   "outputs": [
    {
     "name": "stdout",
     "output_type": "stream",
     "text": [
      "[[0.02323702 0.22377635 0.54511761 0.93523434 0.22806901 0.80159956\n",
      "  0.37799587 0.27061196 0.7176575  0.49681642]\n",
      " [0.10710716 0.83491414 0.12117131 0.83966008 0.50310671 0.89564276\n",
      "  0.15441892 0.3070647  0.2608064  0.79927729]\n",
      " [0.96811639 0.16226143 0.92492154 0.6896323  0.71995109 0.88553449\n",
      "  0.34478317 0.63005174 0.83342184 0.23060531]\n",
      " [0.94474149 0.71880022 0.74932999 0.60510409 0.81133235 0.71383845\n",
      "  0.48763359 0.16929628 0.77640132 0.43887344]\n",
      " [0.13019141 0.94482076 0.4515065  0.64735198 0.12618875 0.98174508\n",
      "  0.02604308 0.23638047 0.22176616 0.27506282]]\n"
     ]
    }
   ],
   "source": [
    "#3: return only the odd rows of A\n",
    "print(A[::2])\n"
   ]
  },
  {
   "cell_type": "code",
   "execution_count": 4,
   "metadata": {},
   "outputs": [
    {
     "name": "stdout",
     "output_type": "stream",
     "text": [
      "[[5.39959055e-04 8.50431972e-02 5.83860013e-02 7.00906515e-01\n",
      "  2.20797346e-01 5.73167636e-01 3.57108379e-01 1.59445408e-01\n",
      "  9.34328398e-02 3.60219597e-01]\n",
      " [8.50431972e-02 2.42332534e-01 7.63697640e-01 7.52149350e-02\n",
      "  1.09542045e-01 4.66240231e-02 3.69727137e-01 4.87561567e-02\n",
      "  1.09439310e-01 7.49908093e-01]\n",
      " [5.83860013e-02 7.63697640e-01 1.46824860e-02 6.90220289e-02\n",
      "  4.65334233e-01 8.13193545e-01 1.15710725e-01 8.36940531e-02\n",
      "  1.17755783e-01 9.67469663e-02]\n",
      " [7.00906515e-01 7.52149350e-02 6.90220289e-02 2.57303456e-01\n",
      "  6.77166869e-01 3.11000981e-02 5.78814758e-01 3.96760914e-01\n",
      "  3.98517652e-01 4.60513810e-01]\n",
      " [2.20797346e-01 1.09542045e-01 4.65334233e-01 6.77166869e-01\n",
      "  5.18329568e-01 7.21844183e-01 2.79733740e-01 1.23383759e-01\n",
      "  1.05168460e-01 1.80946527e-01]\n",
      " [5.73167636e-01 4.66240231e-02 8.13193545e-01 3.11000981e-02\n",
      "  7.21844183e-01 8.07277926e-01 2.07025915e-01 7.63774523e-02\n",
      "  9.37384381e-02 8.56188038e-02]\n",
      " [3.57108379e-01 3.69727137e-01 1.15710725e-01 5.78814758e-01\n",
      "  2.79733740e-01 2.07025915e-01 2.37786517e-01 9.35792416e-02\n",
      "  2.02198846e-02 3.28121608e-01]\n",
      " [1.59445408e-01 4.87561567e-02 8.36940531e-02 3.96760914e-01\n",
      "  1.23383759e-01 7.63774523e-02 9.35792416e-02 1.35593862e-04\n",
      "  6.38161448e-02 2.80619269e-01]\n",
      " [9.34328398e-02 1.09439310e-01 1.17755783e-01 3.98517652e-01\n",
      "  1.05168460e-01 9.37384381e-02 2.02198846e-02 6.38161448e-02\n",
      "  4.91802292e-02 1.19801282e-01]\n",
      " [3.60219597e-01 7.49908093e-01 9.67469663e-02 4.60513810e-01\n",
      "  1.80946527e-01 8.56188038e-02 3.28121608e-01 2.80619269e-01\n",
      "  1.19801282e-01 3.11256625e-02]]\n"
     ]
    }
   ],
   "source": [
    "#4: perform a matrix multiplication of A with it's transposed\n",
    "B = A * np.transpose(A)\n",
    "print(B)"
   ]
  },
  {
   "cell_type": "code",
   "execution_count": 5,
   "metadata": {},
   "outputs": [
    {
     "data": {
      "text/plain": [
       "array([[-2.25980337e+00,  2.40984971e+00,  1.68216011e-03,\n",
       "        -2.65406198e+00,  3.13363468e+00, -3.39996316e+00,\n",
       "        -8.21982988e-01, -4.04124990e-01, -6.12902438e-01,\n",
       "         3.60991937e+00],\n",
       "       [-2.42558463e-02, -1.15049469e+00, -2.35603191e-01,\n",
       "         1.93594577e+00, -8.35298605e-01,  1.14839589e+00,\n",
       "         3.90738415e-02,  4.96630423e-01,  1.68058109e+00,\n",
       "        -2.13591192e+00],\n",
       "       [ 1.49134207e+00, -3.18984377e+00, -2.27748696e-01,\n",
       "         3.94899913e+00, -2.52833498e+00,  4.59279709e+00,\n",
       "         2.11744815e-01,  2.24294696e+00,  2.07859285e+00,\n",
       "        -6.04923886e+00],\n",
       "       [ 1.81773242e+00, -5.59954141e+00,  1.44803031e+00,\n",
       "         5.29275426e+00, -3.59181478e+00,  6.37946038e+00,\n",
       "         1.45061424e-01,  3.93751254e+00,  1.86054225e+00,\n",
       "        -8.02615055e+00],\n",
       "       [ 1.93844644e+00, -4.56692494e+00,  1.40552390e+00,\n",
       "         3.95555560e+00, -4.62877997e+00,  6.01289397e+00,\n",
       "         2.42276933e+00,  1.50358680e+00, -9.46834551e-02,\n",
       "        -6.07558847e+00],\n",
       "       [-1.25095516e+00,  5.13537015e+00, -7.11046230e-01,\n",
       "        -6.58427724e+00,  2.68336309e+00, -5.87329736e+00,\n",
       "         5.57179050e-01, -3.40223976e+00, -2.45993115e+00,\n",
       "         8.94883992e+00],\n",
       "       [ 2.86232651e-01,  3.11763527e+00, -1.60390555e+00,\n",
       "        -3.45955546e+00,  3.15851761e-02, -2.97134449e+00,\n",
       "         6.47908778e-01, -1.31296812e+00, -1.45936779e+00,\n",
       "         5.54245210e+00],\n",
       "       [-4.89414068e-01,  5.65231372e-02, -8.69301625e-02,\n",
       "         1.28757506e+00,  1.78109202e+00, -1.50168324e-01,\n",
       "        -2.33528282e+00, -2.18418953e-02,  9.89597063e-01,\n",
       "        -6.79151387e-01],\n",
       "       [-2.30919802e-01,  1.88986237e+00, -7.74370243e-01,\n",
       "        -1.37915167e+00,  2.45112028e+00, -3.25008727e+00,\n",
       "        -2.00454064e-01, -2.19538828e+00, -6.28139616e-01,\n",
       "         2.64712442e+00],\n",
       "       [-1.41780785e+00,  3.12433278e+00,  5.18360510e-01,\n",
       "        -2.31341754e+00,  3.02574956e+00, -3.65318689e+00,\n",
       "        -1.42713221e+00, -1.09669062e+00, -1.02019870e+00,\n",
       "         3.21902037e+00]])"
      ]
     },
     "execution_count": 5,
     "metadata": {},
     "output_type": "execute_result"
    }
   ],
   "source": [
    "#5: compute the matrix inverse of A\n",
    "C = np.linalg.inv(A)\n",
    "C"
   ]
  },
  {
   "cell_type": "code",
   "execution_count": 6,
   "metadata": {},
   "outputs": [
    {
     "data": {
      "text/plain": [
       "array([[0.02323702, 0.22377635, 0.54511761, 0.93523434, 0.22806901,\n",
       "        0.80159956, 0.37799587, 0.27061196, 0.7176575 , 0.49681642],\n",
       "       [0.38003658, 0.49227282, 0.914702  , 0.08409354, 0.67509601,\n",
       "        0.43644349, 0.51436704, 0.30505337, 0.11583076, 0.97340026],\n",
       "       [0.10710716, 0.83491414, 0.12117131, 0.83966008, 0.50310671,\n",
       "        0.89564276, 0.15441892, 0.3070647 , 0.2608064 , 0.79927729],\n",
       "       [0.7494448 , 0.89441988, 0.08220235, 0.50725088, 0.98192452,\n",
       "        0.15962925, 0.95655403, 0.7064924 , 0.61561201, 0.57760796],\n",
       "       [0.96811639, 0.16226143, 0.92492154, 0.6896323 , 0.71995109,\n",
       "        0.88553449, 0.34478317, 0.63005174, 0.83342184, 0.23060531],\n",
       "       [0.71502988, 0.10682717, 0.90794408, 0.19482706, 0.81515084,\n",
       "        0.89848646, 0.29001788, 0.90649656, 0.09548144, 0.11514422],\n",
       "       [0.94474149, 0.71880022, 0.74932999, 0.60510409, 0.81133235,\n",
       "        0.71383845, 0.48763359, 0.16929628, 0.77640132, 0.43887344],\n",
       "       [0.58920311, 0.15982828, 0.27256162, 0.56159261, 0.19583115,\n",
       "        0.08425564, 0.55275428, 0.01164448, 0.26997215, 0.32185699],\n",
       "       [0.13019141, 0.94482076, 0.4515065 , 0.64735198, 0.12618875,\n",
       "        0.98174508, 0.02604308, 0.23638047, 0.22176616, 0.27506282],\n",
       "       [0.72505574, 0.77040054, 0.12104306, 0.79727746, 0.78465897,\n",
       "        0.74357883, 0.74764518, 0.87187563, 0.43554154, 0.17642467]])"
      ]
     },
     "execution_count": 6,
     "metadata": {},
     "output_type": "execute_result"
    }
   ],
   "source": [
    "A"
   ]
  },
  {
   "cell_type": "code",
   "execution_count": 7,
   "metadata": {},
   "outputs": [
    {
     "data": {
      "text/plain": [
       "array([[0.02323702, 0.22377635, 0.27255881, 0.46761717, 0.22806901,\n",
       "        0.40079978, 0.37799587, 0.27061196, 0.35882875, 0.49681642],\n",
       "       [0.38003658, 0.49227282, 0.457351  , 0.08409354, 0.33754801,\n",
       "        0.43644349, 0.25718352, 0.30505337, 0.11583076, 0.48670013],\n",
       "       [0.10710716, 0.41745707, 0.12117131, 0.41983004, 0.25155335,\n",
       "        0.44782138, 0.15441892, 0.3070647 , 0.2608064 , 0.39963864],\n",
       "       [0.3747224 , 0.44720994, 0.08220235, 0.25362544, 0.49096226,\n",
       "        0.15962925, 0.47827701, 0.3532462 , 0.30780601, 0.28880398],\n",
       "       [0.4840582 , 0.16226143, 0.46246077, 0.34481615, 0.35997554,\n",
       "        0.44276724, 0.34478317, 0.31502587, 0.41671092, 0.23060531],\n",
       "       [0.35751494, 0.10682717, 0.45397204, 0.19482706, 0.40757542,\n",
       "        0.44924323, 0.29001788, 0.45324828, 0.09548144, 0.11514422],\n",
       "       [0.47237075, 0.35940011, 0.374665  , 0.30255205, 0.40566618,\n",
       "        0.35691923, 0.48763359, 0.16929628, 0.38820066, 0.43887344],\n",
       "       [0.29460155, 0.15982828, 0.27256162, 0.28079631, 0.19583115,\n",
       "        0.08425564, 0.27637714, 0.01164448, 0.26997215, 0.32185699],\n",
       "       [0.13019141, 0.47241038, 0.4515065 , 0.32367599, 0.12618875,\n",
       "        0.49087254, 0.02604308, 0.23638047, 0.22176616, 0.27506282],\n",
       "       [0.36252787, 0.38520027, 0.12104306, 0.39863873, 0.39232948,\n",
       "        0.37178942, 0.37382259, 0.43593781, 0.43554154, 0.17642467]])"
      ]
     },
     "execution_count": 7,
     "metadata": {},
     "output_type": "execute_result"
    }
   ],
   "source": [
    "#6: divide all entries of A which are lager than 0.5 by 2 (hint: use where() )\n",
    "\n",
    "D= np.where(A>0.5, A/2, A)\n",
    "D"
   ]
  },
  {
   "cell_type": "code",
   "execution_count": 8,
   "metadata": {},
   "outputs": [
    {
     "name": "stdout",
     "output_type": "stream",
     "text": [
      "(10, 10)\n",
      "(10,)\n",
      "(10, 10)\n"
     ]
    },
    {
     "data": {
      "text/plain": [
       "[<matplotlib.lines.Line2D at 0x7fb4029b9040>]"
      ]
     },
     "execution_count": 8,
     "metadata": {},
     "output_type": "execute_result"
    },
    {
     "data": {
      "image/png": "[encoded data removed]",
      "text/plain": [
       "<Figure size 432x288 with 1 Axes>"
      ]
     },
     "metadata": {
      "needs_background": "light"
     },
     "output_type": "display_data"
    }
   ],
   "source": [
    "#7: compute the singular value decomposition of A\n",
    "U, S, VT = np.linalg.svd(A, full_matrices=True)\n",
    "print(np.shape(U))\n",
    "print(np.shape(S))\n",
    "print(np.shape(VT))\n",
    "#7.1: plot the singular values\n",
    "plt.plot(S)"
   ]
  },
  {
   "cell_type": "code",
   "execution_count": 9,
   "metadata": {},
   "outputs": [
    {
     "name": "stdout",
     "output_type": "stream",
     "text": [
      "[[0.2887744  0.40980623 0.53931063 0.89244865 0.21537003 0.81340032\n",
      "  0.21063775 0.07991227 0.66130963 0.42446685]\n",
      " [0.42801748 0.52537263 0.89793958 0.06904882 0.71775427 0.4403239\n",
      "  0.44607005 0.25178544 0.12554654 0.96143358]\n",
      " [0.06457403 0.96950765 0.23674861 0.77799148 0.39238879 0.87290278\n",
      "  0.26355186 0.3066451  0.29097381 0.67975619]\n",
      " [0.83815039 0.88997854 0.06653735 0.54708004 0.9684317  0.19358283\n",
      "  0.97713535 0.6339112  0.50817555 0.5703254 ]\n",
      " [0.94113081 0.15958693 0.9582146  0.71435366 0.70511017 0.90752124\n",
      "  0.45161767 0.59453503 0.76643416 0.18070181]\n",
      " [0.74988198 0.18273559 0.91642545 0.1358005  0.80737209 0.89345833\n",
      "  0.23496103 0.88100019 0.15319558 0.08726159]\n",
      " [0.78854037 0.50082059 0.74507615 0.73153921 0.72892102 0.67438746\n",
      "  0.63160089 0.40485171 0.72264063 0.58054695]\n",
      " [0.45802051 0.19302753 0.2488009  0.42212253 0.31987126 0.07939252\n",
      "  0.45434819 0.03861113 0.51522514 0.31051869]\n",
      " [0.00904968 0.71312243 0.3415598  0.71555299 0.25207017 1.01036718\n",
      "  0.02813463 0.32984769 0.23526026 0.41909702]\n",
      " [0.74491617 0.81270677 0.11037999 0.7623136  0.82587184 0.72222979\n",
      "  0.64767903 0.86158306 0.50255313 0.17627072]]\n"
     ]
    }
   ],
   "source": [
    "#7.2: reconstruct A' by using only the top 5 singular values\n",
    "Y = np.dot(U[:,:5]*S[:5],VT[:5,:])\n",
    "print(Y)"
   ]
  },
  {
   "cell_type": "code",
   "execution_count": 11,
   "metadata": {},
   "outputs": [
    {
     "data": {
      "text/plain": [
       "<matplotlib.legend.Legend at 0x7fb40291c700>"
      ]
     },
     "execution_count": 11,
     "metadata": {},
     "output_type": "execute_result"
    },
    {
     "data": {
      "image/png": "[encoded data removed]",
      "text/plain": [
       "<Figure size 432x288 with 1 Axes>"
      ]
     },
     "metadata": {
      "needs_background": "light"
     },
     "output_type": "display_data"
    }
   ],
   "source": [
    "#comparison to original singular values\n",
    "UY, SY, VTY = np.linalg.svd(Y, full_matrices=True)\n",
    "plt.plot(S, label = \"original\")\n",
    "plt.plot(SY, label = \"reconstructed\")\n",
    "\n",
    "plt.legend(loc = 2)"
   ]
  },
  {
   "cell_type": "code",
   "execution_count": null,
   "metadata": {},
   "outputs": [],
   "source": []
  },
  {
   "cell_type": "code",
   "execution_count": null,
   "metadata": {},
   "outputs": [],
   "source": []
  },
  {
   "cell_type": "code",
   "execution_count": null,
   "metadata": {},
   "outputs": [],
   "source": []
  }
 ],
 "metadata": {
  "kernelspec": {
   "display_name": "Python 3",
   "language": "python",
   "name": "python3"
  },
  "language_info": {
   "codemirror_mode": {
    "name": "ipython",
    "version": 3
   },
   "file_extension": ".py",
   "mimetype": "text/x-python",
   "name": "python",
   "nbconvert_exporter": "python",
   "pygments_lexer": "ipython3",
   "version": "3.8.3"
  }
 },
 "nbformat": 4,
 "nbformat_minor": 4
}
